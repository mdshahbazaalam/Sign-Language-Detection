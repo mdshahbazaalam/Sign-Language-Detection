{
 "cells": [
  {
   "cell_type": "markdown",
   "id": "64845705",
   "metadata": {},
   "source": [
    "# Import dependencies"
   ]
  },
  {
   "cell_type": "code",
   "execution_count": 1,
   "id": "3c48491b",
   "metadata": {},
   "outputs": [],
   "source": [
    "import os\n",
    "import numpy as np\n",
    "import cv2\n",
    "import mediapipe as mp"
   ]
  },
  {
   "cell_type": "markdown",
   "id": "d147c33e",
   "metadata": {},
   "source": [
    "# Capture keypoints"
   ]
  },
  {
   "cell_type": "code",
   "execution_count": 2,
   "id": "bcccb20f",
   "metadata": {},
   "outputs": [],
   "source": [
    "mp_holistic = mp.solutions.holistic\n",
    "mp_drawing = mp.solutions.drawing_utils"
   ]
  },
  {
   "cell_type": "code",
   "execution_count": 3,
   "id": "65ffafc5",
   "metadata": {},
   "outputs": [],
   "source": [
    "def mediapipe_detection(image,model):\n",
    "    image = cv2.cvtColor(image,cv2.COLOR_BGR2RGB)\n",
    "    image.flags.writeable = False\n",
    "    results = model.process(image)\n",
    "    image.flags.writeable = True\n",
    "    image = cv2.cvtColor(image,cv2.COLOR_RGB2BGR)\n",
    "    return results, image"
   ]
  },
  {
   "cell_type": "code",
   "execution_count": 4,
   "id": "b6ec355d",
   "metadata": {},
   "outputs": [],
   "source": [
    "def draw_landmarks(image,results):\n",
    "    mp_drawing.draw_landmarks(image, results.face_landmarks, mp_holistic.FACEMESH_CONTOURS,\n",
    "                             mp_drawing.DrawingSpec(color=(200,0,50), thickness=1, circle_radius=1),\n",
    "                             mp_drawing.DrawingSpec(color=(160,0,0), thickness=1, circle_radius=1))\n",
    "    \n",
    "    mp_drawing.draw_landmarks(image, results.left_hand_landmarks, mp_holistic.HAND_CONNECTIONS,\n",
    "                             mp_drawing.DrawingSpec(color=(0,0,255), thickness=2, circle_radius=2),\n",
    "                             mp_drawing.DrawingSpec(color=(0,255,0), thickness=2, circle_radius=2))\n",
    "    \n",
    "    mp_drawing.draw_landmarks(image, results.right_hand_landmarks, mp_holistic.HAND_CONNECTIONS,\n",
    "                             mp_drawing.DrawingSpec(color=(0,0,255), thickness=2, circle_radius=2),\n",
    "                             mp_drawing.DrawingSpec(color=(0,255,0), thickness=2, circle_radius=2))\n",
    "    \n",
    "    mp_drawing.draw_landmarks(image, results.pose_landmarks, mp_holistic.POSE_CONNECTIONS,\n",
    "                             mp_drawing.DrawingSpec(color=(0,0,255), thickness=2, circle_radius=2),\n",
    "                             mp_drawing.DrawingSpec(color=(0,255,0), thickness=2, circle_radius=2))"
   ]
  },
  {
   "cell_type": "markdown",
   "id": "fb593475",
   "metadata": {},
   "source": [
    "# Extract Keypoints"
   ]
  },
  {
   "cell_type": "code",
   "execution_count": 5,
   "id": "8fab122e",
   "metadata": {},
   "outputs": [],
   "source": [
    "def extract_keypoints(results):\n",
    "    pose = np.array([[res.x,res.y,res.z,res.visibility] for res in results.pose_landmarks.landmark]).flatten() if results.pose_landmarks else np.zeros(33*4)\n",
    "    face = np.array([[res.x,res.y,res.z] for res in results.face_landmarks.landmark]).flatten() if results.face_landmarks else np.zeros(468*3)\n",
    "    lh = np.array([[res.x,res.y,res.z] for res in results.left_hand_landmarks.landmark]).flatten() if results.left_hand_landmarks else np.zeros(21*3)\n",
    "    rh = np.array([[res.x,res.y,res.z] for res in results.right_hand_landmarks.landmark]).flatten() if results.right_hand_landmarks else np.zeros(21*3)\n",
    "    return np.concatenate([pose,face,lh,rh])"
   ]
  },
  {
   "cell_type": "markdown",
   "id": "c0f5c270",
   "metadata": {},
   "source": [
    "# Folder Setup"
   ]
  },
  {
   "cell_type": "code",
   "execution_count": 6,
   "id": "290994a9",
   "metadata": {},
   "outputs": [],
   "source": [
    "actions = np.array(['A','B','C','D','E','F','G','H','I','J','K','L','M','N','O','P','Q','R','S',\n",
    "                    'T','U','V','W','X','Y','Z','HELLO','HEY','_I','MY','NAME','YOU','YOUR','HOW ARE YOU',\n",
    "                    'I\\'M FINE','NICE','TO MEET YOU','WHERE','FROM','LIKE','WORK','WORK','MOVIE','WHAT',\n",
    "                    'WHAT TIME IS IT','WASHROOM','MEANING','SORRY','BAD','LOVE','WITH','WANT TO',\n",
    "                    'FAVOURITE','SIGN','PLEASE','THANK YOU','SEE YOU LATER','GOOD','MORNING','AFTERNOON',\n",
    "                    'NIGHT','TODAY','GO','COME','EXCUSE ME','GOOD BYE','TAKE CARE','FOR WATCHING','HAVE',\n",
    "                    'DAY','YES','NO','KNOW','LITTLE','EVERYONE','0','1','2','3','4','5','6','7','8','9'])\n",
    "\n",
    "\"\"\"actions = np.array(['A','B','C','D','E','F','G','H','I','J','K','L','M','N','O','P','Q','R','S',\n",
    "                    'T','U','V','W','X','Y','Z'])     ## CHANGE THE ARRAY ACCORDING TO YOUR NEED \n",
    "                        ##  **(FIRST TIME EXECUTE WITH ALL PHRASES YOU WILL WORK FOR -- TO FOLDER CREATION)\"\"\"\n",
    "\n",
    "DATA_PATH = os.path.join('DATA')\n",
    "no_of_videos = 31\n",
    "no_of_frames = 30"
   ]
  },
  {
   "cell_type": "code",
   "execution_count": 7,
   "id": "d3f2952c",
   "metadata": {},
   "outputs": [],
   "source": [
    "## ONLY ONE TIME EXECUTION IS NEEDED\n",
    "def setup_folder(actions):\n",
    "    for action in actions:\n",
    "        for video_no in range(-1,no_of_videos):\n",
    "            try:\n",
    "                os.makedirs(os.path.join(DATA_PATH,action,str(video_no)))\n",
    "            except:\n",
    "                print(\"Cannot create directorie!\")"
   ]
  },
  {
   "cell_type": "code",
   "execution_count": 8,
   "id": "173ecddf",
   "metadata": {},
   "outputs": [],
   "source": [
    "## ONLY ONE TIME EXECUTION IS NEEDED\n",
    "setup_folder(actions)"
   ]
  },
  {
   "cell_type": "markdown",
   "id": "932cfb1d",
   "metadata": {},
   "source": [
    "# Data collection"
   ]
  },
  {
   "cell_type": "code",
   "execution_count": 9,
   "id": "41be0157",
   "metadata": {},
   "outputs": [],
   "source": [
    "def data_collect(actions):\n",
    "    no_of_videos = 31\n",
    "    no_of_frames = 30\n",
    "    camera = cv2.VideoCapture(0)\n",
    "    with mp_holistic.Holistic(min_detection_confidence = 0.5, min_tracking_confidence = 0.5) as holistic:\n",
    "        for action in actions:\n",
    "            for video_no in range(-1,no_of_videos):\n",
    "                for frame_no in range(no_of_frames):\n",
    "                    success, frame = camera.read()\n",
    "\n",
    "                    results, image = mediapipe_detection(frame,holistic)\n",
    "\n",
    "                    draw_landmarks(image, results)\n",
    "                    \n",
    "                    if frame_no == 0:\n",
    "                        cv2.putText(image, 'Sart Recording...',(250,250),cv2.FONT_HERSHEY_SIMPLEX,\n",
    "                                   1,(0,255,0),3,cv2.LINE_AA)\n",
    "                        cv2.putText(image,'Data for:{} video_no:{}'.format(action,video_no),\n",
    "                                    (15,60),cv2.FONT_HERSHEY_SIMPLEX, 1, (0,0,255),2,cv2.LINE_AA)\n",
    "                        \n",
    "                        cv2.imshow('Data Collection...',image)\n",
    "                        \n",
    "                        cv2.waitKey(1000)\n",
    "                    else:\n",
    "                        cv2.putText(image,'Data for:{} video_no:{}'.format(action,video_no),\n",
    "                                    (15,60),cv2.FONT_HERSHEY_SIMPLEX, 1, (0,0,255),2,cv2.LINE_AA)\n",
    "                        cv2.imshow('Data Collection...',image)\n",
    "                    \n",
    "                    keypoint_array = extract_keypoints(results)\n",
    "                    \n",
    "                    array_path = os.path.join(DATA_PATH,action,str(video_no),str(frame_no))\n",
    "                    \n",
    "                    np.save(array_path,keypoint_array)\n",
    "\n",
    "                    if cv2.waitKey(10) & 0xFF == ord('q'):\n",
    "                        break\n",
    "        camera.release()\n",
    "        cv2.destroyAllWindows()"
   ]
  },
  {
   "cell_type": "code",
   "execution_count": 10,
   "id": "c813d9ac",
   "metadata": {},
   "outputs": [],
   "source": [
    "data_collect(actions)   ## EXECUTE TO START DATA COLLECTION (VIDEO RECORDING)"
   ]
  },
  {
   "cell_type": "code",
   "execution_count": 1,
   "id": "f41a026f",
   "metadata": {},
   "outputs": [
    {
     "ename": "NameError",
     "evalue": "name 'model' is not defined",
     "output_type": "error",
     "traceback": [
      "\u001b[1;31m---------------------------------------------------------------------------\u001b[0m",
      "\u001b[1;31mNameError\u001b[0m                                 Traceback (most recent call last)",
      "\u001b[1;32m~\\AppData\\Local\\Temp/ipykernel_2288/1395060488.py\u001b[0m in \u001b[0;36m<module>\u001b[1;34m\u001b[0m\n\u001b[1;32m----> 1\u001b[1;33m \u001b[0mmodel\u001b[0m\u001b[1;33m.\u001b[0m\u001b[0mload_weights\u001b[0m\u001b[1;33m(\u001b[0m\u001b[1;34m'model.h5'\u001b[0m\u001b[1;33m)\u001b[0m\u001b[1;33m\u001b[0m\u001b[1;33m\u001b[0m\u001b[0m\n\u001b[0m",
      "\u001b[1;31mNameError\u001b[0m: name 'model' is not defined"
     ]
    }
   ],
   "source": [
    "model.load_weights('model.h5')"
   ]
  },
  {
   "cell_type": "code",
   "execution_count": null,
   "id": "9335ad56",
   "metadata": {},
   "outputs": [],
   "source": []
  },
  {
   "cell_type": "code",
   "execution_count": null,
   "id": "3572f4ce",
   "metadata": {},
   "outputs": [],
   "source": []
  }
 ],
 "metadata": {
  "kernelspec": {
   "display_name": "Python 3 (ipykernel)",
   "language": "python",
   "name": "python3"
  },
  "language_info": {
   "codemirror_mode": {
    "name": "ipython",
    "version": 3
   },
   "file_extension": ".py",
   "mimetype": "text/x-python",
   "name": "python",
   "nbconvert_exporter": "python",
   "pygments_lexer": "ipython3",
   "version": "3.9.2"
  }
 },
 "nbformat": 4,
 "nbformat_minor": 5
}
